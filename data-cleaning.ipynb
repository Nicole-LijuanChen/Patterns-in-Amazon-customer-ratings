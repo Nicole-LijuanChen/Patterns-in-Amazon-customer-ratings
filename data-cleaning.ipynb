{
 "cells": [
  {
   "cell_type": "code",
   "execution_count": 90,
   "metadata": {},
   "outputs": [],
   "source": [
    "# Import Libraries\n",
    "%matplotlib inline\n",
    "\n",
    "import numpy as np\n",
    "import pandas as pd\n",
    "import pyspark as ps    # for the pyspark suitefrom collections import Counter\n",
    "import matplotlib.pyplot as plt\n",
    "from collections import Counter\n",
    "plt.style.use('ggplot')"
   ]
  },
  {
   "cell_type": "code",
   "execution_count": 91,
   "metadata": {},
   "outputs": [],
   "source": [
    "# Import Custom Modules\n",
    "from src.eda_helper import *\n"
   ]
  },
  {
   "cell_type": "code",
   "execution_count": 93,
   "metadata": {},
   "outputs": [],
   "source": [
    "# Create spark session\n",
    "spark = ps.sql.SparkSession.builder \\\n",
    "            .master(\"local[4]\") \\\n",
    "            .appName(\"capstone1\") \\\n",
    "            .getOrCreate()\n",
    "sc = spark.sparkContext"
   ]
  },
  {
   "cell_type": "code",
   "execution_count": 4,
   "metadata": {},
   "outputs": [
    {
     "name": "stdout",
     "output_type": "stream",
     "text": [
      "All_Beauty_5.json  Books.json\r\n"
     ]
    }
   ],
   "source": [
    "ls data/\n"
   ]
  },
  {
   "cell_type": "code",
   "execution_count": 5,
   "metadata": {},
   "outputs": [],
   "source": [
    "# beauty ratings\n",
    "path_beauty = \"data/All_Beauty_5.json\"\n"
   ]
  },
  {
   "cell_type": "markdown",
   "metadata": {},
   "source": [
    "## Explore data in Beauty"
   ]
  },
  {
   "cell_type": "code",
   "execution_count": 6,
   "metadata": {},
   "outputs": [],
   "source": [
    "# Create Spark DF\n",
    "beauty_df = spark.read.json(path_beauty)\n",
    "# Create Spark SQL\n",
    "beauty_df.createOrReplaceTempView('beauty')\n",
    "# Create Spark RDD\n",
    "beauty_rdd = sc.textFile(path_beauty)"
   ]
  },
  {
   "cell_type": "code",
   "execution_count": 7,
   "metadata": {},
   "outputs": [
    {
     "name": "stdout",
     "output_type": "stream",
     "text": [
      "root\n",
      " |-- asin: string (nullable = true)\n",
      " |-- image: array (nullable = true)\n",
      " |    |-- element: string (containsNull = true)\n",
      " |-- overall: double (nullable = true)\n",
      " |-- reviewText: string (nullable = true)\n",
      " |-- reviewTime: string (nullable = true)\n",
      " |-- reviewerID: string (nullable = true)\n",
      " |-- reviewerName: string (nullable = true)\n",
      " |-- style: struct (nullable = true)\n",
      " |    |-- Color:: string (nullable = true)\n",
      " |    |-- Design:: string (nullable = true)\n",
      " |    |-- Flavor:: string (nullable = true)\n",
      " |    |-- Scent Name:: string (nullable = true)\n",
      " |    |-- Size:: string (nullable = true)\n",
      " |    |-- Style Name:: string (nullable = true)\n",
      " |-- summary: string (nullable = true)\n",
      " |-- unixReviewTime: long (nullable = true)\n",
      " |-- verified: boolean (nullable = true)\n",
      " |-- vote: string (nullable = true)\n",
      "\n",
      "5269\n"
     ]
    }
   ],
   "source": [
    "beauty_df.printSchema()\n",
    "\n",
    "print(beauty_df.count())"
   ]
  },
  {
   "cell_type": "code",
   "execution_count": 8,
   "metadata": {},
   "outputs": [
    {
     "data": {
      "text/plain": [
       "['{\"overall\": 5.0, \"verified\": true, \"reviewTime\": \"09 1, 2016\", \"reviewerID\": \"A3CIUOJXQ5VDQ2\", \"asin\": \"B0000530HU\", \"style\": {\"Size:\": \" 7.0 oz\", \"Flavor:\": \" Classic Ice Blue\"}, \"reviewerName\": \"Shelly F\", \"reviewText\": \"As advertised. Reasonably priced\", \"summary\": \"Five Stars\", \"unixReviewTime\": 1472688000}']"
      ]
     },
     "execution_count": 8,
     "metadata": {},
     "output_type": "execute_result"
    }
   ],
   "source": [
    "beauty_rdd.take(1)"
   ]
  },
  {
   "cell_type": "code",
   "execution_count": 9,
   "metadata": {},
   "outputs": [
    {
     "data": {
      "text/plain": [
       "[{'overall': 5.0,\n",
       "  'verified': True,\n",
       "  'reviewTime': '09 1, 2016',\n",
       "  'reviewerID': 'A3CIUOJXQ5VDQ2',\n",
       "  'asin': 'B0000530HU',\n",
       "  'style': {'Size:': ' 7.0 oz', 'Flavor:': ' Classic Ice Blue'},\n",
       "  'reviewerName': 'Shelly F',\n",
       "  'reviewText': 'As advertised. Reasonably priced',\n",
       "  'summary': 'Five Stars',\n",
       "  'unixReviewTime': 1472688000}]"
      ]
     },
     "execution_count": 9,
     "metadata": {},
     "output_type": "execute_result"
    }
   ],
   "source": [
    "# Map each RDD item to JSON\n",
    "beauty_rdd_json = beauty_rdd.map(parse_json)\n",
    "\n",
    "# Sample View\n",
    "beauty_rdd_json.take(1)"
   ]
  },
  {
   "cell_type": "markdown",
   "metadata": {},
   "source": [
    "## How is the ratings distributed\n"
   ]
  },
  {
   "cell_type": "markdown",
   "metadata": {},
   "source": [
    "### Extract 'overall' key from JSON Obects"
   ]
  },
  {
   "cell_type": "code",
   "execution_count": 31,
   "metadata": {},
   "outputs": [
    {
     "data": {
      "text/plain": [
       "4280"
      ]
     },
     "execution_count": 31,
     "metadata": {},
     "output_type": "execute_result"
    }
   ],
   "source": [
    "overall_beauty = (beauty_rdd_json.filter(lambda row: row['verified'])\n",
    "                  .map(lambda row: row['overall']))\n",
    "overall_beauty.count()"
   ]
  },
  {
   "cell_type": "code",
   "execution_count": 32,
   "metadata": {},
   "outputs": [
    {
     "data": {
      "text/plain": [
       "[5.0, 5.0, 1.0, 5.0, 2.0, 1.0, 1.0, 1.0, 1.0, 1.0]"
      ]
     },
     "execution_count": 32,
     "metadata": {},
     "output_type": "execute_result"
    }
   ],
   "source": [
    "overall_beauty.take(10)"
   ]
  },
  {
   "cell_type": "code",
   "execution_count": 33,
   "metadata": {},
   "outputs": [
    {
     "data": {
      "text/plain": [
       "4.814252336448603"
      ]
     },
     "execution_count": 33,
     "metadata": {},
     "output_type": "execute_result"
    }
   ],
   "source": [
    "overall_beauty.mean()"
   ]
  },
  {
   "cell_type": "code",
   "execution_count": 164,
   "metadata": {},
   "outputs": [
    {
     "data": {
      "text/plain": [
       "0.7304029433749584"
      ]
     },
     "execution_count": 164,
     "metadata": {},
     "output_type": "execute_result"
    }
   ],
   "source": [
    "overall_beauty.stdev()"
   ]
  },
  {
   "cell_type": "markdown",
   "metadata": {},
   "source": [
    "###  Pie Chart of overall_tags in Beauty"
   ]
  },
  {
   "cell_type": "code",
   "execution_count": 34,
   "metadata": {},
   "outputs": [
    {
     "data": {
      "text/plain": [
       "Counter({5.0: 3931, 1.0: 111, 2.0: 39, 4.0: 164, 3.0: 35})"
      ]
     },
     "execution_count": 34,
     "metadata": {},
     "output_type": "execute_result"
    }
   ],
   "source": [
    "bins = [1,2,3,4,5]\n",
    "cnt = Counter(overall_beauty.collect())\n",
    "cnt"
   ]
  },
  {
   "cell_type": "code",
   "execution_count": 35,
   "metadata": {},
   "outputs": [
    {
     "data": {
      "text/html": [
       "<div>\n",
       "<style scoped>\n",
       "    .dataframe tbody tr th:only-of-type {\n",
       "        vertical-align: middle;\n",
       "    }\n",
       "\n",
       "    .dataframe tbody tr th {\n",
       "        vertical-align: top;\n",
       "    }\n",
       "\n",
       "    .dataframe thead th {\n",
       "        text-align: right;\n",
       "    }\n",
       "</style>\n",
       "<table border=\"1\" class=\"dataframe\">\n",
       "  <thead>\n",
       "    <tr style=\"text-align: right;\">\n",
       "      <th></th>\n",
       "      <th>ratings</th>\n",
       "      <th>count</th>\n",
       "    </tr>\n",
       "  </thead>\n",
       "  <tbody>\n",
       "    <tr>\n",
       "      <th>0</th>\n",
       "      <td>5.0</td>\n",
       "      <td>3931</td>\n",
       "    </tr>\n",
       "    <tr>\n",
       "      <th>1</th>\n",
       "      <td>1.0</td>\n",
       "      <td>111</td>\n",
       "    </tr>\n",
       "    <tr>\n",
       "      <th>2</th>\n",
       "      <td>2.0</td>\n",
       "      <td>39</td>\n",
       "    </tr>\n",
       "    <tr>\n",
       "      <th>3</th>\n",
       "      <td>4.0</td>\n",
       "      <td>164</td>\n",
       "    </tr>\n",
       "    <tr>\n",
       "      <th>4</th>\n",
       "      <td>3.0</td>\n",
       "      <td>35</td>\n",
       "    </tr>\n",
       "  </tbody>\n",
       "</table>\n",
       "</div>"
      ],
      "text/plain": [
       "   ratings  count\n",
       "0      5.0   3931\n",
       "1      1.0    111\n",
       "2      2.0     39\n",
       "3      4.0    164\n",
       "4      3.0     35"
      ]
     },
     "execution_count": 35,
     "metadata": {},
     "output_type": "execute_result"
    }
   ],
   "source": [
    "# Create DF of ratings\n",
    "df_ratings = pd.DataFrame({'ratings': list(cnt.keys()),\n",
    "                             'count': list(cnt.values())\n",
    "})\n",
    "df_ratings"
   ]
  },
  {
   "cell_type": "code",
   "execution_count": 36,
   "metadata": {},
   "outputs": [
    {
     "data": {
      "text/plain": [
       "([<matplotlib.patches.Wedge at 0x7ff0936029d0>,\n",
       "  <matplotlib.patches.Wedge at 0x7ff09360f550>,\n",
       "  <matplotlib.patches.Wedge at 0x7ff093618090>,\n",
       "  <matplotlib.patches.Wedge at 0x7ff093618c10>,\n",
       "  <matplotlib.patches.Wedge at 0x7ff093622990>],\n",
       " [Text(-0.27871725183885643, -1.0641037043105317, '5.0'),\n",
       "  Text(0.5011916437403681, 1.0903242344572683, '1.0'),\n",
       "  Text(0.4098810885207897, 1.2336926251190012, '2.0'),\n",
       "  Text(0.18800848242002996, 1.0838140110453072, '4.0'),\n",
       "  Text(0.03082545515091866, 1.1996040143792195, '3.0')],\n",
       " [Text(-0.1520275919121035, -0.5804202023511991, '91.8%'),\n",
       "  Text(0.2923617921818813, 0.6360224701000731, '2.6%'),\n",
       "  Text(0.2522345160127936, 0.7591954616116932, '0.9%'),\n",
       "  Text(0.10255008132001633, 0.5911712787519857, '3.8%'),\n",
       "  Text(0.017981515504702554, 0.699769008387878, '0.8%')])"
      ]
     },
     "execution_count": 36,
     "metadata": {},
     "output_type": "execute_result"
    },
    {
     "data": {
      "image/png": "[encoded data removed]",
      "text/plain": [
       "<Figure size 1120x640 with 1 Axes>"
      ]
     },
     "metadata": {},
     "output_type": "display_data"
    }
   ],
   "source": [
    "fig, ax = plt.subplots(figsize=(14, 8), dpi=80)\n",
    "labels = df_ratings['ratings'].values\n",
    "sizes  = df_ratings['count'].values\n",
    "cols = ['c','m','r','b','g']\n",
    "# ax.bar(df_ratings['ratings'],df_ratings['count'])\n",
    "ax.pie(sizes,\n",
    "        labels=labels,\n",
    "        startangle=90,\n",
    "        shadow= True,\n",
    "        colors=cols,\n",
    "        explode=(0,0.1,0.2,0,0.1),\n",
    "        autopct='%1.1f%%')\n",
    "\n"
   ]
  },
  {
   "cell_type": "markdown",
   "metadata": {},
   "source": [
    "## Average ratings in different years IN Beauty"
   ]
  },
  {
   "cell_type": "code",
   "execution_count": 102,
   "metadata": {},
   "outputs": [
    {
     "data": {
      "text/plain": [
       "4280"
      ]
     },
     "execution_count": 102,
     "metadata": {},
     "output_type": "execute_result"
    }
   ],
   "source": [
    "years_beauty = (beauty_rdd_json.filter(lambda row: row['verified'])\n",
    "                        .map(lambda row: row['reviewTime'])\n",
    "                        .map(lambda row: row.split(\",\"))\n",
    "                        .map(lambda row: int(row[1]))\n",
    "                       )\n",
    "years_beauty.count()"
   ]
  },
  {
   "cell_type": "code",
   "execution_count": 100,
   "metadata": {},
   "outputs": [
    {
     "data": {
      "text/plain": [
       "[' 2016',\n",
       " ' 2013',\n",
       " ' 2013',\n",
       " ' 2011',\n",
       " ' 2018',\n",
       " ' 2018',\n",
       " ' 2018',\n",
       " ' 2018',\n",
       " ' 2018',\n",
       " ' 2018']"
      ]
     },
     "execution_count": 100,
     "metadata": {},
     "output_type": "execute_result"
    }
   ],
   "source": [
    "years_beauty.take(10)"
   ]
  },
  {
   "cell_type": "code",
   "execution_count": 61,
   "metadata": {},
   "outputs": [],
   "source": [
    "# Extract years\n"
   ]
  },
  {
   "cell_type": "code",
   "execution_count": 55,
   "metadata": {},
   "outputs": [
    {
     "data": {
      "text/plain": [
       "[5.0, 5.0, 1.0, 5.0, 2.0, 1.0, 1.0, 1.0, 1.0, 1.0]"
      ]
     },
     "execution_count": 55,
     "metadata": {},
     "output_type": "execute_result"
    }
   ],
   "source": [
    "overall_beauty.take(10)"
   ]
  },
  {
   "cell_type": "code",
   "execution_count": 107,
   "metadata": {},
   "outputs": [
    {
     "data": {
      "text/html": [
       "<div>\n",
       "<style scoped>\n",
       "    .dataframe tbody tr th:only-of-type {\n",
       "        vertical-align: middle;\n",
       "    }\n",
       "\n",
       "    .dataframe tbody tr th {\n",
       "        vertical-align: top;\n",
       "    }\n",
       "\n",
       "    .dataframe thead th {\n",
       "        text-align: right;\n",
       "    }\n",
       "</style>\n",
       "<table border=\"1\" class=\"dataframe\">\n",
       "  <thead>\n",
       "    <tr style=\"text-align: right;\">\n",
       "      <th></th>\n",
       "      <th>ratings</th>\n",
       "      <th>years</th>\n",
       "    </tr>\n",
       "  </thead>\n",
       "  <tbody>\n",
       "    <tr>\n",
       "      <th>0</th>\n",
       "      <td>5.0</td>\n",
       "      <td>2016</td>\n",
       "    </tr>\n",
       "    <tr>\n",
       "      <th>1</th>\n",
       "      <td>5.0</td>\n",
       "      <td>2013</td>\n",
       "    </tr>\n",
       "    <tr>\n",
       "      <th>2</th>\n",
       "      <td>1.0</td>\n",
       "      <td>2013</td>\n",
       "    </tr>\n",
       "    <tr>\n",
       "      <th>3</th>\n",
       "      <td>5.0</td>\n",
       "      <td>2011</td>\n",
       "    </tr>\n",
       "    <tr>\n",
       "      <th>4</th>\n",
       "      <td>2.0</td>\n",
       "      <td>2018</td>\n",
       "    </tr>\n",
       "  </tbody>\n",
       "</table>\n",
       "</div>"
      ],
      "text/plain": [
       "   ratings  years\n",
       "0      5.0   2016\n",
       "1      5.0   2013\n",
       "2      1.0   2013\n",
       "3      5.0   2011\n",
       "4      2.0   2018"
      ]
     },
     "execution_count": 107,
     "metadata": {},
     "output_type": "execute_result"
    }
   ],
   "source": [
    "# Create DF of years and ratings\n",
    "df_years = pd.DataFrame({'ratings': overall_beauty.collect(),\n",
    "                             'years': years_beauty.collect()\n",
    "})\n",
    "df_years.head(5)"
   ]
  },
  {
   "cell_type": "code",
   "execution_count": 113,
   "metadata": {},
   "outputs": [
    {
     "data": {
      "text/plain": [
       "years\n",
       "2007    4.333333\n",
       "2008    3.666667\n",
       "2009    4.500000\n",
       "2011    4.600000\n",
       "2012    4.894737\n",
       "2013    4.951515\n",
       "2014    4.933222\n",
       "2015    4.957983\n",
       "2016    4.940147\n",
       "2017    4.939571\n",
       "2018    3.448468\n",
       "Name: ratings, dtype: float64"
      ]
     },
     "execution_count": 113,
     "metadata": {},
     "output_type": "execute_result"
    }
   ],
   "source": [
    "ratings_by_year = pd.DataFrame(df_years.groupby('years')['ratings'].mean())\n",
    "ratings_by_year"
   ]
  },
  {
   "cell_type": "code",
   "execution_count": 122,
   "metadata": {},
   "outputs": [
    {
     "data": {
      "text/plain": [
       "pandas.core.series.Series"
      ]
     },
     "execution_count": 122,
     "metadata": {},
     "output_type": "execute_result"
    }
   ],
   "source": [
    "type(ratings_by_year)"
   ]
  },
  {
   "cell_type": "code",
   "execution_count": 126,
   "metadata": {},
   "outputs": [
    {
     "data": {
      "text/plain": [
       "Int64Index([2007, 2008, 2009, 2011, 2012, 2013, 2014, 2015, 2016, 2017, 2018], dtype='int64', name='years')"
      ]
     },
     "execution_count": 126,
     "metadata": {},
     "output_type": "execute_result"
    }
   ],
   "source": [
    "ratings_by_year.index"
   ]
  },
  {
   "cell_type": "code",
   "execution_count": 139,
   "metadata": {},
   "outputs": [
    {
     "data": {
      "text/html": [
       "<div>\n",
       "<style scoped>\n",
       "    .dataframe tbody tr th:only-of-type {\n",
       "        vertical-align: middle;\n",
       "    }\n",
       "\n",
       "    .dataframe tbody tr th {\n",
       "        vertical-align: top;\n",
       "    }\n",
       "\n",
       "    .dataframe thead th {\n",
       "        text-align: right;\n",
       "    }\n",
       "</style>\n",
       "<table border=\"1\" class=\"dataframe\">\n",
       "  <thead>\n",
       "    <tr style=\"text-align: right;\">\n",
       "      <th></th>\n",
       "      <th>year</th>\n",
       "      <th>avg_ratings</th>\n",
       "    </tr>\n",
       "  </thead>\n",
       "  <tbody>\n",
       "    <tr>\n",
       "      <th>0</th>\n",
       "      <td>2007</td>\n",
       "      <td>4.333333</td>\n",
       "    </tr>\n",
       "    <tr>\n",
       "      <th>1</th>\n",
       "      <td>2008</td>\n",
       "      <td>3.666667</td>\n",
       "    </tr>\n",
       "    <tr>\n",
       "      <th>2</th>\n",
       "      <td>2009</td>\n",
       "      <td>4.500000</td>\n",
       "    </tr>\n",
       "    <tr>\n",
       "      <th>3</th>\n",
       "      <td>2011</td>\n",
       "      <td>4.600000</td>\n",
       "    </tr>\n",
       "    <tr>\n",
       "      <th>4</th>\n",
       "      <td>2012</td>\n",
       "      <td>4.894737</td>\n",
       "    </tr>\n",
       "    <tr>\n",
       "      <th>5</th>\n",
       "      <td>2013</td>\n",
       "      <td>4.951515</td>\n",
       "    </tr>\n",
       "    <tr>\n",
       "      <th>6</th>\n",
       "      <td>2014</td>\n",
       "      <td>4.933222</td>\n",
       "    </tr>\n",
       "    <tr>\n",
       "      <th>7</th>\n",
       "      <td>2015</td>\n",
       "      <td>4.957983</td>\n",
       "    </tr>\n",
       "    <tr>\n",
       "      <th>8</th>\n",
       "      <td>2016</td>\n",
       "      <td>4.940147</td>\n",
       "    </tr>\n",
       "    <tr>\n",
       "      <th>9</th>\n",
       "      <td>2017</td>\n",
       "      <td>4.939571</td>\n",
       "    </tr>\n",
       "    <tr>\n",
       "      <th>10</th>\n",
       "      <td>2018</td>\n",
       "      <td>3.448468</td>\n",
       "    </tr>\n",
       "  </tbody>\n",
       "</table>\n",
       "</div>"
      ],
      "text/plain": [
       "    year  avg_ratings\n",
       "0   2007     4.333333\n",
       "1   2008     3.666667\n",
       "2   2009     4.500000\n",
       "3   2011     4.600000\n",
       "4   2012     4.894737\n",
       "5   2013     4.951515\n",
       "6   2014     4.933222\n",
       "7   2015     4.957983\n",
       "8   2016     4.940147\n",
       "9   2017     4.939571\n",
       "10  2018     3.448468"
      ]
     },
     "execution_count": 139,
     "metadata": {},
     "output_type": "execute_result"
    }
   ],
   "source": [
    "avg_ratings = pd.DataFrame({'year': ratings_by_year.index.tolist(),\n",
    "                  'avg_ratings': ratings_by_year})\n",
    "\n",
    "avg_ratings.reset_index(drop=True, inplace=True)\n",
    "avg_ratings"
   ]
  },
  {
   "cell_type": "code",
   "execution_count": 148,
   "metadata": {
    "scrolled": true
   },
   "outputs": [
    {
     "data": {
      "text/plain": [
       "Text(0, 0.5, 'avg_ratings')"
      ]
     },
     "execution_count": 148,
     "metadata": {},
     "output_type": "execute_result"
    },
    {
     "data": {
      "image/png": "[encoded data removed]",
      "text/plain": [
       "<Figure size 1120x640 with 1 Axes>"
      ]
     },
     "metadata": {},
     "output_type": "display_data"
    }
   ],
   "source": [
    "fig, ax = plt.subplots(figsize=(14, 8), dpi=80)\n",
    "ax.bar(avg_ratings['year'],avg_ratings['avg_ratings'],alpha=0.5)\n",
    "ax.set_title(\"average ratings by year\")\n",
    "ax.set_xlabel(\"year\")\n",
    "ax.set_ylabel(\"avg_ratings\")"
   ]
  },
  {
   "cell_type": "markdown",
   "metadata": {},
   "source": [
    "## Explore data in Books"
   ]
  },
  {
   "cell_type": "code",
   "execution_count": 149,
   "metadata": {},
   "outputs": [
    {
     "name": "stdout",
     "output_type": "stream",
     "text": [
      "AMAZON_FASHION_5.json  All_Beauty_5.json      Books_5.json\r\n"
     ]
    }
   ],
   "source": [
    "ls data/"
   ]
  },
  {
   "cell_type": "code",
   "execution_count": 151,
   "metadata": {},
   "outputs": [],
   "source": [
    "# Books ratings\n",
    "path_books = \"data/Books_5.json\""
   ]
  },
  {
   "cell_type": "code",
   "execution_count": 152,
   "metadata": {},
   "outputs": [],
   "source": [
    "# Create Spark DF\n",
    "books_df = spark.read.json(path_books)\n",
    "# Create Spark SQL\n",
    "books_df.createOrReplaceTempView('books')\n",
    "# Create Spark RDD\n",
    "books_rdd = sc.textFile(path_books)\n"
   ]
  },
  {
   "cell_type": "code",
   "execution_count": 153,
   "metadata": {},
   "outputs": [
    {
     "name": "stdout",
     "output_type": "stream",
     "text": [
      "root\n",
      " |-- asin: string (nullable = true)\n",
      " |-- image: array (nullable = true)\n",
      " |    |-- element: string (containsNull = true)\n",
      " |-- overall: double (nullable = true)\n",
      " |-- reviewText: string (nullable = true)\n",
      " |-- reviewTime: string (nullable = true)\n",
      " |-- reviewerID: string (nullable = true)\n",
      " |-- reviewerName: string (nullable = true)\n",
      " |-- style: struct (nullable = true)\n",
      " |    |-- Color:: string (nullable = true)\n",
      " |    |-- Format:: string (nullable = true)\n",
      " |    |-- Package Quantity:: string (nullable = true)\n",
      " |    |-- Size:: string (nullable = true)\n",
      " |    |-- Style Name:: string (nullable = true)\n",
      " |    |-- Style:: string (nullable = true)\n",
      " |-- summary: string (nullable = true)\n",
      " |-- unixReviewTime: long (nullable = true)\n",
      " |-- verified: boolean (nullable = true)\n",
      " |-- vote: string (nullable = true)\n",
      "\n"
     ]
    }
   ],
   "source": [
    "books_df.printSchema()\n",
    "\n"
   ]
  },
  {
   "cell_type": "code",
   "execution_count": 154,
   "metadata": {},
   "outputs": [
    {
     "data": {
      "text/plain": [
       "['{\"overall\": 5.0, \"verified\": false, \"reviewTime\": \"03 30, 2005\", \"reviewerID\": \"A1REUF3A1YCPHM\", \"asin\": \"0001713353\", \"style\": {\"Format:\": \" Hardcover\"}, \"reviewerName\": \"TW Ervin II\", \"reviewText\": \"The King, the Mice and the Cheese by Nancy Gurney is an excellent children\\'s book.  It is one that I well remember from my own childhood and purchased for my daughter who loves it.\\\\n\\\\nIt is about a king who has trouble with rude mice eating his cheese. He consults his wise men and they suggest cats to chase away the mice. The cats become a nuisance, so the wise men recommend the king bring in dogs to chase the cats away.  The cycle goes on until the mice are finally brought back to chase away the elephants, brought in to chase away the lions that\\'d chased away the dogs.\\\\n\\\\nThe story ends in compromise and friendship between the mice and the king.  The story also teaches cause and effect relationships.\\\\n\\\\nThe pictures that accompany the story are humorous and memorable.  I was thrilled to discover that it is back in print.  I *highly* recommend it for children ages 2 to 7.\", \"summary\": \"A story children will love and learn from\", \"unixReviewTime\": 1112140800}']"
      ]
     },
     "execution_count": 154,
     "metadata": {},
     "output_type": "execute_result"
    }
   ],
   "source": [
    "books_rdd.take(1)"
   ]
  },
  {
   "cell_type": "code",
   "execution_count": 155,
   "metadata": {},
   "outputs": [
    {
     "data": {
      "text/plain": [
       "[{'overall': 5.0,\n",
       "  'verified': False,\n",
       "  'reviewTime': '03 30, 2005',\n",
       "  'reviewerID': 'A1REUF3A1YCPHM',\n",
       "  'asin': '0001713353',\n",
       "  'style': {'Format:': ' Hardcover'},\n",
       "  'reviewerName': 'TW Ervin II',\n",
       "  'reviewText': \"The King, the Mice and the Cheese by Nancy Gurney is an excellent children's book.  It is one that I well remember from my own childhood and purchased for my daughter who loves it.\\n\\nIt is about a king who has trouble with rude mice eating his cheese. He consults his wise men and they suggest cats to chase away the mice. The cats become a nuisance, so the wise men recommend the king bring in dogs to chase the cats away.  The cycle goes on until the mice are finally brought back to chase away the elephants, brought in to chase away the lions that'd chased away the dogs.\\n\\nThe story ends in compromise and friendship between the mice and the king.  The story also teaches cause and effect relationships.\\n\\nThe pictures that accompany the story are humorous and memorable.  I was thrilled to discover that it is back in print.  I *highly* recommend it for children ages 2 to 7.\",\n",
       "  'summary': 'A story children will love and learn from',\n",
       "  'unixReviewTime': 1112140800}]"
      ]
     },
     "execution_count": 155,
     "metadata": {},
     "output_type": "execute_result"
    }
   ],
   "source": [
    "# Map each RDD item to JSON\n",
    "books_rdd_json = books_rdd.map(parse_json)\n",
    "\n",
    "# Sample View\n",
    "books_rdd_json.take(1)"
   ]
  },
  {
   "cell_type": "code",
   "execution_count": 161,
   "metadata": {},
   "outputs": [],
   "source": [
    "overall_books =(books_rdd_json.filter(lambda row: row['verified'])\n",
    "                  .map(lambda row: row['overall'])\n",
    "           )\n"
   ]
  },
  {
   "cell_type": "code",
   "execution_count": 162,
   "metadata": {},
   "outputs": [
    {
     "data": {
      "text/plain": [
       "[5.0, 5.0, 5.0, 5.0, 5.0]"
      ]
     },
     "execution_count": 162,
     "metadata": {},
     "output_type": "execute_result"
    }
   ],
   "source": [
    "overall_books.take(5)"
   ]
  },
  {
   "cell_type": "code",
   "execution_count": 163,
   "metadata": {},
   "outputs": [
    {
     "data": {
      "text/plain": [
       "4.425847125430551"
      ]
     },
     "execution_count": 163,
     "metadata": {},
     "output_type": "execute_result"
    }
   ],
   "source": [
    "overall_books.mean()"
   ]
  },
  {
   "cell_type": "code",
   "execution_count": 165,
   "metadata": {},
   "outputs": [
    {
     "data": {
      "text/plain": [
       "0.9661424119905437"
      ]
     },
     "execution_count": 165,
     "metadata": {},
     "output_type": "execute_result"
    }
   ],
   "source": [
    "overall_books.stdev()"
   ]
  },
  {
   "cell_type": "code",
   "execution_count": 167,
   "metadata": {},
   "outputs": [
    {
     "data": {
      "text/plain": [
       "[2016, 2016, 2015, 2013, 2013, 2012, 2016, 2015, 2015, 2014]"
      ]
     },
     "execution_count": 167,
     "metadata": {},
     "output_type": "execute_result"
    }
   ],
   "source": [
    "years_books = (books_rdd_json.filter(lambda row: row['verified'])\n",
    "                        .map(lambda row: row['reviewTime'])\n",
    "                        .map(lambda row: row.split(\",\"))\n",
    "                        .map(lambda row: int(row[1]))\n",
    "                       )\n",
    "years_books.take(10)"
   ]
  },
  {
   "cell_type": "code",
   "execution_count": null,
   "metadata": {},
   "outputs": [],
   "source": [
    "df_years_books = pd.DataFrame({'ratings': overall_books.collect(),\n",
    "                             'years': years_books.collect()\n",
    "})\n",
    "df_years_books.head(5)"
   ]
  },
  {
   "cell_type": "code",
   "execution_count": null,
   "metadata": {},
   "outputs": [],
   "source": [
    "ratings_by_year = pd.DataFrame(df_years.groupby('years')['ratings'].mean())\n",
    "ratings_by_year"
   ]
  },
  {
   "cell_type": "code",
   "execution_count": null,
   "metadata": {},
   "outputs": [],
   "source": []
  },
  {
   "cell_type": "markdown",
   "metadata": {},
   "source": [
    "## Explore data in Fashion "
   ]
  },
  {
   "cell_type": "code",
   "execution_count": null,
   "metadata": {},
   "outputs": [],
   "source": []
  },
  {
   "cell_type": "code",
   "execution_count": null,
   "metadata": {},
   "outputs": [],
   "source": []
  },
  {
   "cell_type": "code",
   "execution_count": null,
   "metadata": {},
   "outputs": [],
   "source": []
  },
  {
   "cell_type": "code",
   "execution_count": null,
   "metadata": {},
   "outputs": [],
   "source": []
  },
  {
   "cell_type": "code",
   "execution_count": null,
   "metadata": {},
   "outputs": [],
   "source": []
  }
 ],
 "metadata": {
  "kernelspec": {
   "display_name": "Python 3",
   "language": "python",
   "name": "python3"
  },
  "language_info": {
   "codemirror_mode": {
    "name": "ipython",
    "version": 3
   },
   "file_extension": ".py",
   "mimetype": "text/x-python",
   "name": "python",
   "nbconvert_exporter": "python",
   "pygments_lexer": "ipython3",
   "version": "3.7.6"
  }
 },
 "nbformat": 4,
 "nbformat_minor": 4
}
